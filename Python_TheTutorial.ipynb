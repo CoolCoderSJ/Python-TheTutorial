{
  "nbformat": 4,
  "nbformat_minor": 0,
  "metadata": {
    "colab": {
      "name": "Python-TheTutorial",
      "provenance": [],
      "collapsed_sections": [],
      "authorship_tag": "ABX9TyO5tYIfhusokgJ0Nm3qnZrY",
      "include_colab_link": true
    },
    "kernelspec": {
      "display_name": "Python 3",
      "name": "python3"
    }
  },
  "cells": [
    {
      "cell_type": "markdown",
      "metadata": {
        "id": "view-in-github",
        "colab_type": "text"
      },
      "source": [
        "<a href=\"https://colab.research.google.com/github/CoolCoderSJ/Python-TheTutorial/blob/master/Python_TheTutorial.ipynb\" target=\"_parent\"><img src=\"https://colab.research.google.com/assets/colab-badge.svg\" alt=\"Open In Colab\"/></a>"
      ]
    },
    {
      "cell_type": "markdown",
      "metadata": {
        "id": "Hchuhv5EeFhX"
      },
      "source": [
        "# Python -- The Tutorial (IPYNB EDITION)\r\n",
        "It is recomended to go [here](https://sjurl.repl.co/pytutorial) for the interactive tutorial version with an account to save your progress! (You need a repl.it account for the interactive version.)"
      ]
    },
    {
      "cell_type": "markdown",
      "metadata": {
        "id": "s2x_ZgPaeSee"
      },
      "source": [
        "## Lesson 0, INTRO TO IDEs\r\n",
        "\r\n",
        "Welcome, welcome! This is a bonus lesson, Level0! In this lesson, we're going to talk about IDEs, or Integrated Development Environments. An IDE is where you type your code, possibly install packages, run the code, and manage your files, all in one.\r\n",
        "Here's the list of Software we're going to talk about today -\r\n",
        "- Sublime Text\r\n",
        "- Repl.it\r\n",
        "- Notepad++\r\n",
        "- TextEdit\r\n",
        "- Atom\r\n",
        "\r\n",
        "Let's begin!\r\n",
        "\r\n",
        "___\r\n",
        "\r\n",
        "#### SUBLIME TEXT\r\n",
        "Features-\r\n",
        "Numerous themes\r\n",
        "\r\n",
        "Package Control, install packages within the IDE\r\n",
        "\r\n",
        "Multiple language Syntax highlighting\r\n",
        "\r\n",
        "Run your code\r\n",
        "\r\n",
        "Cons -\r\n",
        "\r\n",
        "Can be finicky\r\n",
        "\r\n",
        "The Git Support is a bit...weird\r\n",
        "\r\n",
        "___\r\n",
        "\r\n",
        "#### REPL.IT (RECOMMENDED IDE) \r\n",
        "Features -\r\n",
        "\r\n",
        "Github support\r\n",
        "\r\n",
        "Package Manager\r\n",
        "\r\n",
        "Run your code\r\n",
        "\r\n",
        "Free web hosting\r\n",
        "\r\n",
        "Share porjects easily\r\n",
        "\r\n",
        "Save your code with an account\r\n",
        "\r\n",
        "Friendly community\r\n",
        "\r\n",
        "Free easy to use Database\r\n",
        "\r\n",
        "50+ languages\r\n",
        "\r\n",
        "Syntax highlighting for all of them\r\n",
        "\r\n",
        "Live error Linting (Finds errors live)\r\n",
        "\r\n",
        "Debugger\r\n",
        "\r\n",
        "Multiplayer support\r\n",
        "\r\n",
        "Version control\r\n",
        "\r\n",
        "___\r\n",
        "\r\n",
        "#### Notepad++ and TextEdit\r\n",
        "NO\r\n",
        "\r\n",
        "DO NOT USE THESE FOR CODING. This is called a text editor, and are the worst things to use for coding because they don't support anything. at all.\r\n",
        "\r\n",
        "___\r\n",
        "\r\n",
        "#### Atom - \r\n",
        "Its made by Github, so deep Git support\r\n",
        "\r\n",
        "looks pretty cool\r\n",
        "\r\n",
        "Multiple language syntax highlighting\r\n",
        "\r\n",
        "run code\r\n",
        "\r\n",
        "markdown preview\r\n",
        "\r\n",
        "Cons - \r\n",
        "\r\n",
        "Cant run code in it.\r\n",
        "\r\n",
        "___\r\n",
        "\r\n",
        "Thats all, I hope this helped you decide which IDE is best for you!\r\n",
        "\r\n",
        "___"
      ]
    },
    {
      "cell_type": "markdown",
      "metadata": {
        "id": "zmmCExLXeUdl"
      },
      "source": [
        "## Lesson 1, Hello World!\r\n",
        "A Hello World program is the first program all developers do in a language. Let's learn the Python Syntax.\r\n",
        "\r\n",
        "The first thing to note is that there are no semicolons. The `print` Statement prints a line of code into the console/shell (Usually on Terminal, Command Prompt, Repl.it, etc its called the console, but on the Python IDLE its called the shell). Here's the line of code for Hello World -- \r\n",
        "\r\n",
        "```python\r\n",
        "print(\"Hello world!\")\r\n",
        "```\r\n",
        "`print` is a default python function, with the parameter of eithr a string, integer, float, variable, function, math equation, etc. The 'Hello World' is our string. DO NOT ADD A SEMICOLON.\r\n",
        "\r\n",
        "\r\n",
        "___\r\n",
        "\r\n",
        "Run the following code to see the output for this lesson - "
      ]
    },
    {
      "cell_type": "code",
      "metadata": {
        "id": "wZGMENjqetfx"
      },
      "source": [
        "print(\"Hello world!\")"
      ],
      "execution_count": null,
      "outputs": []
    },
    {
      "cell_type": "markdown",
      "metadata": {
        "id": "SMEuqRGafJKw"
      },
      "source": [
        "## Lesson 2, Data Types (Mini Lesson)\r\n",
        "There are 3 types of python values, a string() , int() , and float() string is a string, int is an integer, and float is integers+decimals\r\n",
        "\r\n",
        "___\r\n",
        "\r\n",
        "#### Data type casting\r\n",
        "\r\n",
        "___\r\n",
        "To change the type of a value, do one of the following -\r\n",
        "\r\n",
        "```python\r\n",
        "newstr = str(1)\r\n",
        "newint = int(\"1\")\r\n",
        "newfloat = float(\"0.004\")\r\n",
        "```\r\n",
        "\r\n",
        "(Run these code snippets below)"
      ]
    },
    {
      "cell_type": "code",
      "metadata": {
        "id": "_xKACmq0fe3s"
      },
      "source": [
        "print(str(1))\r\n",
        "print(int(\"1\"))\r\n",
        "print(float(\"0.004\"))"
      ],
      "execution_count": null,
      "outputs": []
    },
    {
      "cell_type": "markdown",
      "metadata": {
        "id": "1tT59QSffuEF"
      },
      "source": [
        "## Lesson 3, Variables\r\n",
        "I BELEIVE\r\n",
        "\r\n",
        "that it is now time for you to learn variables.\r\n",
        "\r\n",
        "Yes, the important variables.\r\n",
        "\r\n",
        "Python is super simple.\\nTo define variables, you need neither `let` nor `var`. Simply write the 'equation'. \r\n",
        "\r\n",
        "Example --\r\n",
        "\r\n",
        "```python\r\n",
        "test_var = 'wow' \r\n",
        "```\r\n",
        "\r\n",
        "Variables can equal integers, floats, strings, other integers, math equations, etc. A variable is case sensitive.\r\n",
        "\r\n",
        "____"
      ]
    },
    {
      "cell_type": "code",
      "metadata": {
        "id": "SirsF_mwfvNh"
      },
      "source": [
        "#Run me!\r\n",
        "test_var = \"wow\"\r\n",
        "print(test_var)"
      ],
      "execution_count": null,
      "outputs": []
    },
    {
      "cell_type": "markdown",
      "metadata": {
        "id": "mzpz_D8mf6BY"
      },
      "source": [
        "## Lesson 4, Conitionals\r\n",
        "CONDITIONALS.\r\n",
        "\r\n",
        "Conditionals are an important part of coding. Condtitionals may include things like `if/else` statements. An example of an if statement - \r\n",
        "\r\n",
        "```python\r\n",
        "if user_input == \"hi\":\r\n",
        "  print('big hi')\r\n",
        "```\r\n",
        "\r\n",
        "The syntax:\\nthere are no () or {}. Define your if statement clearly, and use a colon + new line to define the action. If using a variable/int/float, type out the variable/int/float freely. If using a string, type out the word with \"\" around the word. In the above example, user_input was a variable.\r\n",
        "\r\n",
        "Elif\r\n",
        "\r\n",
        "If you want to define another possibility, after the first if definition, type elif ---- \r\n",
        "\r\n",
        "Example --\r\n",
        "```python\r\n",
        "if user_input == \"hi\":\r\n",
        "  print('big hi')\r\n",
        "elif user_input == \"no\":\r\n",
        "  print(\"yes\") \r\n",
        "```\r\n",
        "\r\n",
        "Always remember to define using double equal signs ==  \r\n",
        "\r\n",
        "You can have an unlimited number of if and elif statements.\r\n",
        "\r\n",
        "Else\r\n",
        "\r\n",
        "There can only be one else statement per conditional. Else is like a wildcard, it handles the remaining possibilities. Else usually goes at the bottom, and has no parameters. Example --\r\n",
        "\r\n",
        "```python\r\n",
        "if user_input == \"hi\":\r\n",
        "  print('big hi')\r\n",
        "elif user_input == \"no\":\r\n",
        "  print(\"yes\")\r\n",
        "else:\r\n",
        "  print(\"Hello, I'm Tutorial Bot\") \r\n",
        "```\r\n"
      ]
    },
    {
      "cell_type": "code",
      "metadata": {
        "id": "qD4R8taRf9Qc"
      },
      "source": [
        "#Run me!\r\n",
        "user_input = input(\"Enter something: \")\r\n",
        "if user_input == \"hi\":\r\n",
        "  print('big hi')\r\n",
        "elif user_input == \"no\":\r\n",
        "  print(\"yes\")\r\n",
        "else:\r\n",
        "  print(\"Hello, I'm Tutorial Bot\") "
      ],
      "execution_count": null,
      "outputs": []
    },
    {
      "cell_type": "markdown",
      "metadata": {
        "id": "EY3n4LpvgJpi"
      },
      "source": [
        "\r\n",
        "## Lesson 5, User Input\r\n",
        "Ever wonder how PythonTutorialBot takes in your answers and reads them?\r\n",
        "\r\n",
        "In this lesson, we're going to learn about user inputs. By the end of this lesson, you will be able to take user input, and use it for various things.\r\n",
        "\r\n",
        "LET US BEGIN\r\n",
        "\r\n",
        "Syntax: An input statement is much like a print statement, only this time, instead of print, type input at the beginning. Example -\r\n",
        "\r\n",
        "\r\n",
        "```python\r\n",
        "input(\"What's your favorite color?  \")\r\n",
        "```\r\n",
        "\r\n",
        "While this syntax is correct, currently, it does nothing. To make this work, assign it to a variable.\r\n",
        "\r\n",
        "```python\r\n",
        "fav_color = input(\"What's your favorite color?  \")\r\n",
        "```\r\n",
        "\r\n",
        "Now, we can check the variable `fav_color`'s value  to do certain functions. (You can use usr inputs with conditionals now!!) Treat it like a normal variable. Remember to always add hypens, colons, spaces, etc. at the end of your question to differentiate the question and answer. The input will come in the console/shell, and you will answer by typing there.\r\n",
        "\r\n",
        "___"
      ]
    },
    {
      "cell_type": "code",
      "metadata": {
        "id": "k8ZIFyA9gLmV"
      },
      "source": [
        "fav_color = input(\"What's your favorite color?  \")\r\n",
        "print(\"Received input was:\",fav_color)"
      ],
      "execution_count": null,
      "outputs": []
    },
    {
      "cell_type": "markdown",
      "metadata": {
        "id": "PaWTKg7jgXrE"
      },
      "source": [
        "## Level 6, Lists\r\n",
        "Lists can store LOTS of things. They store practically everything, even other lists! (These are called 2D lists, you'll learn about them later.)\r\n",
        "\r\n",
        "LET US BEGIN\r\n",
        "\r\n",
        "Syntax: A list is enclosed with brackets, and its value is stored as a variable. Example -\r\n",
        "\r\n",
        "```python\r\n",
        "my_list = [\"item1\", \"item2\", \"item3\"]\r\n",
        "```\r\n",
        "Here, we define a variable, with lots of things inside of it.\r\n",
        "\r\n",
        "Now, if we just print this, we will get this -\r\n",
        "\r\n",
        "```\r\n",
        "[item1,tem2,item3]\r\n",
        "```\r\n",
        "\r\n",
        "To get an individual value, we have to call it. To call it, we type the variable name, then the location in brackets. \\nNOTE: In lists, the first value is 0, not 1. If you call by location 1, you'll get the second value. Heres how to call a value --\r\n",
        "\r\n",
        "```python\r\n",
        "list_value_1 = my_list[0]\r\n",
        "print(list_value_1)\r\n",
        "\r\n",
        "#or\r\n",
        "\r\n",
        "print(my_list[0])\r\n",
        "```"
      ]
    },
    {
      "cell_type": "code",
      "metadata": {
        "id": "3oxdVK-8gakz"
      },
      "source": [
        "my_list = [\"item1\", \"item2\", \"item3\"]\r\n",
        "list_value_1 = my_list[0]\r\n",
        "print(list_value_1)\r\n",
        " \r\n",
        "# or\r\n",
        " \r\n",
        "print(my_list[0])\r\n"
      ],
      "execution_count": null,
      "outputs": []
    },
    {
      "cell_type": "markdown",
      "metadata": {
        "id": "iQEU29gMglgt"
      },
      "source": [
        "\r\n",
        "## Lesson 7, Functions\r\n",
        "\r\n",
        "FUNCTIONS.\r\n",
        "\r\n",
        "Literally one of the most important things in python. They hold functions to perform, and they help with organization and a lot of other things.\r\n",
        "\r\n",
        "SYNTAX: use def function_name(params, leave empty if none):\r\n",
        "                print(\"OOO COOL FUNCTION\")\r\n",
        "                \r\n",
        "Example --\r\n",
        "```python\r\n",
        "def kool_function():\r\n",
        "  print(\"wow cool function!\")\r\n",
        "```\r\n",
        "\r\n",
        "We define our function, where we tell python what w want it to do. \r\n",
        "\r\n",
        "But wait! this does nothing right now, your output fo this would be --\r\n",
        "```\r\n",
        ">>>\r\n",
        "```\r\n",
        "Yeah not kidding. To run the function, call it. After defining your code, type\r\n",
        "\r\n",
        "```python\r\n",
        "kool_function()\r\n",
        "```\r\n",
        "your total code should look like this --\r\n",
        "```python\r\n",
        "def kool_function():\r\n",
        "  print(\"wow cool function!\")\r\n",
        "kool_function()\r\n",
        "```\r\n",
        "Now, if we just run this, we will get this -\r\n",
        "```console\r\n",
        ">>> wow cool function!\r\n",
        "```\r\n",
        "You could define anything. \r\n",
        "\r\n",
        "NOTE: Any variables defined inside of the function will only work in the function, and even if you defined it outside the function, it will create a local variable unless told not to. To use a variable from outside the function, type -- \r\n",
        "\r\n",
        "```python\r\n",
        "def kool_function():\r\n",
        "  global var1\r\n",
        "```\r\n"
      ]
    },
    {
      "cell_type": "code",
      "metadata": {
        "id": "lkxy4LnagnDb"
      },
      "source": [
        "def kool_function():\r\n",
        "  print(\"wow cool function!\")\r\n",
        "kool_function()\r\n",
        "\r\n",
        "#EXample with global variables\r\n",
        "\r\n",
        "hi = \"hi\"\r\n",
        "def hi():\r\n",
        "  global hi\r\n",
        "  print(hi)\r\n",
        "\r\n",
        "hi() #This  will give u some weird mumbo jumbo because of the virtual playground"
      ],
      "execution_count": null,
      "outputs": []
    },
    {
      "cell_type": "markdown",
      "metadata": {
        "id": "SYjb356xhMxe"
      },
      "source": [
        "## Lesson 8, EXTENSION OF LESSON 6, 2D LISTS\r\n",
        "\r\n",
        "EXTENSION OF LEVEL 6, 2D LISTS.\r\n",
        "\r\n",
        "Numerous times, a simple value storage isn't enough. Maybe you want to store sets of keys/values with other keys/values inside the same list? Perhaps a login system that stores username and password in a list called logins? (IT IS NOT RECOMMENDED TO USE THIS BECAUSE THIS IS VERY INSECURE.)\r\n",
        "\r\n",
        "But anyhoo, the syntax is pretty much the same as a normal list. \r\n",
        "\r\n",
        "Example --\r\n",
        "\r\n",
        "```python\r\n",
        "my_list = [[\"wow\", \"cool\"], [\"lol\", \"lmao\"], [\"yes\", \"no]]\r\n",
        "```\r\n",
        "\r\n",
        "We define our lists inside of a list.\\nNow here's how to call it -\r\n",
        "\r\n",
        "```python\r\n",
        "print(my_list[0][1])\r\n",
        "```\r\n",
        "\r\n",
        "This calls the first value of the first list inside of the main list. Remember that 0 means 1. (Haha yes very confusing) If you just do    my_list[0], it will print out the first list, so it will print \r\n",
        "\r\n",
        "```python\r\n",
        ">>> [wow, cool]\r\n",
        "```\r\n"
      ]
    },
    {
      "cell_type": "code",
      "metadata": {
        "id": "G-tkVnH8hRI5"
      },
      "source": [
        "my_list = [[\"wow\", \"cool\"], [\"lol\", \"lmao\"], [\"yes\", \"no\"]]\r\n",
        "print(my_list[0][1])\r\n",
        "print(my_list[0])"
      ],
      "execution_count": null,
      "outputs": []
    },
    {
      "cell_type": "markdown",
      "metadata": {
        "id": "K2_Necx1hdcH"
      },
      "source": [
        "## Lesson 9, Loops part 1\r\n",
        "LOOPS.\r\n",
        "\r\n",
        "What if you ever wanted to repeat something over and over? It would be quite un organized and difficult to hand copy lines of code... \r\n",
        "\r\n",
        "This lesson focuses on loops. During the lesson, you will learn about two types of loops broken down into two levels. The first loops is a while loop, which i used less frequently. A while loop runs its contents until a value is true.\r\n",
        "\r\n",
        "SYNTAX:\r\n",
        "\r\n",
        "type while (your condition here): \r\n",
        "things to do here. \r\n",
        "\r\n",
        "Example --\r\n",
        "\r\n",
        "```python\r\n",
        "x = 0\r\n",
        "while x < 5:\r\n",
        "  print(x)\r\n",
        "  x += 1\r\n",
        "```\r\n",
        "\r\n",
        "This loop runs until x is less than five, so it will run 4 times. On the fifth time, it will be equal to 5, not less than, so it wont run."
      ]
    },
    {
      "cell_type": "code",
      "metadata": {
        "id": "U5eaFw8Nhejw"
      },
      "source": [
        "x = 0\r\n",
        "while x < 5:\r\n",
        "  print(x)\r\n",
        "  x += 1"
      ],
      "execution_count": null,
      "outputs": []
    },
    {
      "cell_type": "markdown",
      "metadata": {
        "id": "L3NR8IFyhsa7"
      },
      "source": [
        "## Lesson 10, Loops, part 2\r\n",
        "\r\n",
        "LOOPS PART 2.\r\n",
        "\r\n",
        "This lesson focuses on for loops. The second loop is a for loop, which is used more frequently. A for loop runs its contents for a certain period of time.\r\n",
        "\r\n",
        "SYNTAX:\r\n",
        "\r\n",
        "type for var in range(20): \r\n",
        "  things to do here.\r\n",
        "  \r\n",
        "Example --\r\n",
        "\r\n",
        "```python\r\n",
        "for x in range(5):\r\n",
        "  x += 1\r\n",
        "  print(x)\r\n",
        "```\r\n",
        "\r\n",
        "This loop runs 5 times, each time adding 1 to x.  `range` provides a numerical value, but there are more ways. If instead of `range(5)` u put..\r\n",
        "\r\n",
        "- A string -\r\n",
        "  - It would run for `length of string` number of times.\r\n",
        "  \r\n",
        "- A list -\r\n",
        "  - it would run for the number of items in the list, BUT you cant add to x. In the case of a list, x would actually be the list item. So if u did -\r\n",
        "  ```python\r\n",
        "  for x in my_list:\r\n",
        "    print(x)\r\n",
        "  ```\r\n",
        "  This would print each item of a list on a sepaate line."
      ]
    },
    {
      "cell_type": "code",
      "metadata": {
        "id": "PT9lCjP5htwb"
      },
      "source": [
        "#With range()\r\n",
        "x = 0\r\n",
        "for i in range(5):\r\n",
        "  print(x)\r\n",
        "  x += 1\r\n"
      ],
      "execution_count": null,
      "outputs": []
    },
    {
      "cell_type": "code",
      "metadata": {
        "id": "w9B2NWPKh3nY"
      },
      "source": [
        "#With String\r\n",
        "hi = \"hello what is this\"\r\n",
        "for i in hi:\r\n",
        "  print(i)"
      ],
      "execution_count": null,
      "outputs": []
    },
    {
      "cell_type": "code",
      "metadata": {
        "id": "oOlHjAXOh_2c"
      },
      "source": [
        "#With a list\r\n",
        "my_list = [\"hello\", \"goodbye\", \"yes\", \"no\"]\r\n",
        "for x in my_list:\r\n",
        "  print(x)"
      ],
      "execution_count": null,
      "outputs": []
    },
    {
      "cell_type": "markdown",
      "metadata": {
        "id": "Jsc5B_2PiPnO"
      },
      "source": [
        "## Lesson 11, Dictionaries\r\n",
        "\r\n",
        "DICTIONARIES.\r\n",
        "\r\n",
        "While lists are great for storing sets of data, Dictionaries are used for key-value pairs.\r\n",
        "\r\n",
        "Lets start.\r\n",
        "\r\n",
        "SYNTAX:\r\n",
        "\r\n",
        "Define it asa variable. use curly braces {} to define sets. inside the set, use colons : to separate key and value.\r\n",
        "\r\n",
        "Example --\r\n",
        "\r\n",
        "```python\r\n",
        "my_dict = {\"yes\":\"no\", \"hi\":\"bye\"}\r\n",
        "```\r\n",
        "\r\n",
        "This dictioanry sotres two pairs, yes and no, and hi and bye. Heres how we call a value: We call a value by the key. Type dict_name[key]. this returns the value. Example--\r\n",
        "\r\n",
        "```python\r\n",
        "my_dict = {\"yes\":\"no\", \"hi\":\"bye\"}\r\n",
        "print(my_dict['yes'])\r\n",
        "\r\n",
        "#Output\r\n",
        ">>> no\r\n",
        "```\r\n",
        "\r\n",
        "Now we're going to learn how to set values later in your code. Sometimes, you may want to add a pair later on in your code, or update the dict later on. Here's how you can do that --\r\n",
        "\r\n",
        "```python\r\n",
        "my_dict[\"new_key\"] = \"new_value\"\r\n",
        "```\r\n",
        "\r\n",
        "The above statement sets a new key `\"new_key\"` to the value `\"new_value\"`. \r\n",
        "\r\n",
        "If the key already exists and you run that line above, it will overwrite the current pair to the new pair/update the key to the new value. "
      ]
    },
    {
      "cell_type": "code",
      "metadata": {
        "id": "It17Nrp1iSb6"
      },
      "source": [
        "my_dict = {\"yes\":\"no\", \"hi\":\"bye\"}\r\n",
        "print(my_dict['yes'])\r\n",
        "\r\n",
        "#Updating dict\r\n",
        "\r\n",
        "my_dict[\"new key\"] = \"new value\"\r\n",
        "\r\n",
        "print(\"New value is: \"+my_dict[\"new key\"])\r\n",
        "print(\"Complete dictionary is:\", end = \" \")\r\n",
        "print(my_dict)"
      ],
      "execution_count": null,
      "outputs": []
    },
    {
      "cell_type": "markdown",
      "metadata": {
        "id": "EJRdAnTpiuzU"
      },
      "source": [
        "## Lesson 12, Common Modules\r\n",
        "COMMON MODULES AND THEIR FUNCTIONS\r\n",
        "\r\n",
        "Sometimes, python doesn't always have the functions to do what you want. In this case, we use external packages, or modues.\r\n",
        "\r\n",
        "Repl.it is great, all packages are automatically installed when u give it the command. However, locally, you need to use something called pip3 to install packages. Here's how --\r\n",
        "\r\n",
        "Type\r\n",
        "\r\n",
        "```\r\n",
        "pip3 install <package name>\r\n",
        "```\r\n",
        "\r\n",
        "Into your computer's command prompt/terminal. In all IDEs, type -\r\n",
        "\r\n",
        "```python\r\n",
        "import <package name>\r\n",
        "```\r\n",
        "This tells python to look for commands from that package.\r\n",
        "\r\n",
        "Let's start with one of the popular modules, TIME. \r\n",
        "\r\n",
        "to use it, \r\n",
        "```python\r\n",
        "import time\r\n",
        "```\r\n",
        "It's most popular command is \r\n",
        "```python\r\n",
        "time.sleep(num of secs)\r\n",
        "```\r\n",
        "\r\n",
        "This will freeze the Output for the specified number of seconds. Use it carefully, if you don't you will need to force quit your IDE.\r\n",
        "\r\n",
        "Next, MATH\r\n",
        "```python\r\n",
        "import math\r\n",
        "```\r\n",
        "Before we begin, i'll also tell you how to use python's inbuilt math (better to use both) to do some math functions.\r\n",
        "\r\n",
        "```python\r\n",
        "5+5 #addition\r\n",
        "5-5 #subtraction\r\n",
        "5*5 #multiplication\r\n",
        "5/5 #division\r\n",
        "5//5 #floor division, rounds number after dividing.\r\n",
        "\r\n",
        "#MATH FUNCTIONS WITH THE PACKAGE\r\n",
        "\r\n",
        "math.sqrt(number) #Square root of number\r\n",
        "math.factorial(x)\r\n",
        "```\r\n",
        "\r\n",
        "SPECIAL! LEARN HOW TO COLOR PYTHON OUTPUT -\r\n",
        "```python\r\n",
        "from termcolor import colored\r\n",
        "```\r\n",
        "Now do \r\n",
        "```python\r\n",
        "print(colored(\"string\", \"color\"))\r\n",
        "```\r\n",
        "Cool, right?\r\n",
        "\r\n",
        "\r\n",
        "RANDOM\r\n",
        "\r\n",
        " Here's how to get a random number \r\n",
        " ```python\r\n",
        " import random\r\n",
        " random_number = random.randint(first_number, _last_number)\r\n",
        " ```\r\n",
        " The first number and last number is the range of numbers to look through. They are included in the search for random numbers."
      ]
    },
    {
      "cell_type": "code",
      "metadata": {
        "colab": {
          "base_uri": "https://localhost:8080/"
        },
        "id": "L9ddIYsYjnqt",
        "outputId": "9f20e127-95b1-4cf5-f85d-0cf7c31037a3"
      },
      "source": [
        "#Run this code to install termcolored\r\n",
        "!pip3 install termcolor"
      ],
      "execution_count": null,
      "outputs": [
        {
          "output_type": "stream",
          "text": [
            "Requirement already satisfied: termcolor in /usr/local/lib/python3.6/dist-packages (1.1.0)\n"
          ],
          "name": "stdout"
        }
      ]
    },
    {
      "cell_type": "code",
      "metadata": {
        "id": "4YNdxW7RiwX2"
      },
      "source": [
        "#Time\r\n",
        "import time\r\n",
        "print(\"Resuming in 5 seconds...\")\r\n",
        "time.sleep(5)\r\n",
        "\r\n",
        "\r\n",
        "#Math\r\n",
        "import math\r\n",
        " \r\n",
        "print(str(math.sqrt(25))) #Square root of number\r\n",
        "print(str(math.factorial(5)))\r\n",
        "\r\n",
        "from termcolor import colored\r\n",
        "print(colored(\"string\", \"red\"))\r\n",
        "\r\n",
        "#Random\r\n",
        "import random\r\n",
        "random_number = random.randint(0, 10)\r\n",
        "print(random_number)"
      ],
      "execution_count": null,
      "outputs": []
    },
    {
      "cell_type": "markdown",
      "metadata": {
        "id": "Igcxq27L7qUc"
      },
      "source": [
        "## Closing\r\n",
        "\r\n",
        "\r\n",
        " \r\n",
        "that's all I have to give right now ;-; . Click [here](https://repl.it/talk/learn/PYTHON-TUTORIAL/92006)\r\n",
        "and comment the package you would like to see for me to add it. That's all for this Tutorial, I hope liked it!\r\n",
        "\r\n",
        "### IMPORTANT LINKS\r\n",
        "- [Interactive Online (Recommended)](https://sjurl.repl.co/pytutorial)\r\n",
        "- [Non-Interactive Online](https://sjurl.repl.co/pytutorialo)\r\n",
        "- [Non-Interactive PDF](https://sjurl.repl.co/pytutorialpdf)\r\n",
        "- [Interactive Jupyter (Also Recommended)](https://sjurl.repl.co/pytutorialipynb)\r\n",
        "\r\n",
        "Comparison -\r\n",
        "\r\n",
        "Feaure | Interactive Online | Non-Int Online | PDF | Jupyter \r\n",
        "--- | --- | --- | --- | --- \r\n",
        "Readable Content | Yes | Yes | Yes | Yes  \r\n",
        "Input your own code | Yes | No | No | Yes (Your code will not be validated) \r\n",
        "Run code snippets used in the tutorial | No | No | No | Yes \r\n",
        "Open source code | Yes | Yes | Yes | Yes \r\n",
        "\r\n",
        "\r\n",
        "\r\n",
        "\r\n",
        "\r\n",
        "\r\n",
        "\r\n"
      ]
    }
  ]
}